{
 "cells": [
  {
   "cell_type": "markdown",
   "metadata": {},
   "source": [
    "# Decision-tree classifier\n",
    "# input features:\n",
    "## 1. hue\n",
    "## 2. saturation\n",
    "## 3. brightness_global\n",
    "## 4. dynamic range\n",
    "## 5. contract_Mic\n",
    "## 6. contrast_RMS\n",
    "## 7. title length"
   ]
  },
  {
   "cell_type": "code",
   "execution_count": 2,
   "metadata": {
    "collapsed": true
   },
   "outputs": [],
   "source": [
    "#######################################################\n",
    "# given an image name and a video title, return the input features\n",
    "import cv2\n",
    "import numpy as np\n",
    "\n",
    "def compute_image_features(img_name, video_title):\n",
    "    in_features = [] # [hue, sat, bri_global, dynamic_range, contrast_Mic, contrast_RMS, len_title]\n",
    "    \n",
    "    #####################################\n",
    "    # use openCV compute \n",
    "    # global hue, saturation, birightness (value)\n",
    "    # dynamic range, Michelson contrast and RMS contrast\n",
    "    try:\n",
    "        img = cv2.imread(img_name)\n",
    "    except Exception as e:\n",
    "        print(\"Please upload an image!\")\n",
    "    img_hsv = cv2.cvtColor(img, cv2.COLOR_BGR2HSV)\n",
    "    hue = img_hsv.mean(axis=(0,1))[0]/179\n",
    "    in_features.append(hue)\n",
    "    sat = img_hsv.mean(axis=(0,1))[1]/255\n",
    "    in_features.append(sat)\n",
    "    bri_global = img_hsv.mean(axis=(0,1))[2]/255 # value = brightness\n",
    "    in_features.append(bri_global)\n",
    "    #print(\"The global hue, saturation, brightness: ({0}, {1}, {2})\".format(hue, sat, bri_global))\n",
    "\n",
    "    bri = img_hsv[:, :, 2]/255 # matrix of all pixel, normalized\n",
    "\n",
    "    ###############################################\n",
    "    # compute Michelson contrast\n",
    "    bri_max = bri.max()\n",
    "    bri_min = bri.min()\n",
    "    contrast_Mic = (bri_max - bri_min) / (bri_max + bri_min)\n",
    "    #print(\"bri_max - {0}, bri_min - {1}, contrast_Mic -{2}\".format(bri_max, bri_min, contrast_Mic))\n",
    "    #print(\"The Michelson contrast of this image is {0}\".format(contrast_Mic))\n",
    "\n",
    "    # compute dynamic range\n",
    "    dynamic_range = bri_max - bri_min\n",
    "    in_features.append(dynamic_range)\n",
    "    in_features.append(contrast_Mic)\n",
    "    #print(\"The dynamic range of this image is {0}\".format(dynamic_range))\n",
    "\n",
    "    # compute RMS contrast\n",
    "    bri_norm = bri / bri_max # 1st, normalize the brightness matrix\n",
    "    contrast_RMS = bri_norm.std(axis=(0,1))\n",
    "    in_features.append(contrast_RMS)\n",
    "    #print (\"The RMS contrast of this image is {0}\".format(contrast_RMS))\n",
    "    try:\n",
    "        len_title = len(video_title)\n",
    "    except Exception as e:\n",
    "        print(\"Please enter a video title...\")\n",
    "    in_features.append(len_title)\n",
    "    \n",
    "    return np.array(in_features)"
   ]
  },
  {
   "cell_type": "markdown",
   "metadata": {},
   "source": [
    "# Unpoupular:\n",
    "\n",
    "1. 930_rbLMoT0, Makeup Collection!\n",
    "\n",
    "2. 20rPkUQFkM8, Haul With Caity:)\n",
    "\n",
    "3. fXb8wUrcjNk, Philadelphia\n",
    "\n",
    "# Popular\n",
    "\n",
    "1. 7MzCD3hScOY, DRUGSTORE BACK TO SCHOOL MAKEUP TUTORIAL\n",
    "\n",
    "2. "
   ]
  },
  {
   "cell_type": "code",
   "execution_count": 26,
   "metadata": {
    "collapsed": false
   },
   "outputs": [
    {
     "name": "stdout",
     "output_type": "stream",
     "text": [
      "You might want to modify the thumbnail image and title of your video to optimize its impact!\n"
     ]
    }
   ],
   "source": [
    "#######################\n",
    "# input\n",
    "video_title = \"Haul With Caity:)\"\n",
    "image_feature = compute_image_features(\"20rPkUQFkM8.jpg\", video_title)\n",
    "\n",
    "#######################\n",
    "# import the model\n",
    "from sklearn.externals import joblib\n",
    "clf = joblib.load('model_DTs_global_depth_2.pkl')\n",
    "\n",
    "#######################\n",
    "# predict\n",
    "if clf.predict(image_feature.reshape(1, -1)) == 1:\n",
    "    print(\"The thumbnail image and title look AWESOME!!!!\")\n",
    "else:\n",
    "    print(\"You might want to modify the thumbnail image and title of your video to optimize its impact!\")"
   ]
  },
  {
   "cell_type": "code",
   "execution_count": null,
   "metadata": {
    "collapsed": true
   },
   "outputs": [],
   "source": []
  }
 ],
 "metadata": {
  "anaconda-cloud": {},
  "kernelspec": {
   "display_name": "Python [Root]",
   "language": "python",
   "name": "Python [Root]"
  },
  "language_info": {
   "codemirror_mode": {
    "name": "ipython",
    "version": 3
   },
   "file_extension": ".py",
   "mimetype": "text/x-python",
   "name": "python",
   "nbconvert_exporter": "python",
   "pygments_lexer": "ipython3",
   "version": "3.5.2"
  }
 },
 "nbformat": 4,
 "nbformat_minor": 0
}
